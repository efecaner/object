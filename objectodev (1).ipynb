class Genel_calısan:
    def __init__(self,isim,maas,departman_bilgi):
        self.isim = isim
        self.maas = maas
        self.departman_bilgi = departman_bilgi
    def bilgi(self):
        print(f"İsim : {self.isim},\n Maaş : {self.maas},\n Departman bilgisi : {self.departman_bilgi}")
        
class Mudur(Genel_calısan):
    def __init__(self,isim,maas,departman_bilgi,yacs):
        super().__init__(isim,maas,departman_bilgi)
        self.yacs = yacs
    def bilgi(self):
        super().bilgi()
        print(f" Yönetici altında çalışsan sayısı : {self.yacs}")

class Yonetici(Mudur):
    def __init__(self,isim,maas,departman_bilgi,yacs,butce_yonetim):
        super().__init__(isim,maas,departman_bilgi,yacs)
        self.butce_yonetim = butce_yonetim
    def bilgi(self):
        super().bilgi()
        print(f"Bütçe yönetimi : {self.butce_yonetim}")

calisan1 = Genel_calısan("efecan",50000,"Data Analist")
mudur1 = Mudur("metin",65000,"müdür",23)
yönetici1 =  Yonetici("zeliha",70000,"yönetici",60,300000)
calisan1.bilgi()
mudur1.bilgi()
yönetici1.bilgi()
